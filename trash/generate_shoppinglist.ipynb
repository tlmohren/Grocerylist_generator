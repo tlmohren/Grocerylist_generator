{
 "cells": [
  {
   "cell_type": "code",
   "execution_count": 13,
   "metadata": {},
   "outputs": [],
   "source": [
    "import numpy as np \n",
    "import json\n",
    "import glob \n",
    "import os\n",
    "import re\n",
    "import cooking_functions as cf  "
   ]
  },
  {
   "cell_type": "markdown",
   "metadata": {},
   "source": [
    "# set locations "
   ]
  },
  {
   "cell_type": "code",
   "execution_count": 14,
   "metadata": {},
   "outputs": [],
   "source": [
    "recipe_dir = os.getcwd()\n",
    "os.chdir(recipe_dir) \n",
    "\n",
    "base_folder = False\n",
    "generate_pdf = False\n",
    "\n",
    "\n",
    "basefile : \"D:\\\\Mijn_documenten\\\\Dropbox\\\\J_Cooking\\\\recipes_weekly\" \n",
    "basefile : ''\n",
    "\n",
    "if base_folder:\n",
    "    output_pdf = recipe_dir + \"\\\\recipes_weekly\"  \n",
    "    output_shopping_file = recipe_dir + \"\\\\shopping_list.txt\" \n",
    "    other_grocery_file = recipe_dir + \"\\\\other_groceries.json\" \n",
    "    pantry_file = recipe_dir + \"\\\\pantry.json \" \n",
    "else:  \n",
    "    output_pdf = \"D:\\\\Mijn_documenten\\\\Dropbox\\\\J_Cooking\\\\recipes_weekly\" \n",
    "    output_all = \"D:\\\\Mijn_documenten\\\\Dropbox\\\\J_Cooking\\\\recipes_all\" \n",
    "    output_shopping_file = \"D:\\\\Mijn_documenten\\\\Dropbox\\\\J_Cooking\\\\shopping_list.txt\"  \n",
    "    other_grocery_file = \"D:\\\\Mijn_documenten\\\\Dropbox\\\\\\\\J_Cooking\\\\other_groceries.json\"  \n",
    "    pantry_file = \"D:\\\\Mijn_documenten\\\\Dropbox\\\\J_Cooking\\\\pantry.json\""
   ]
  },
  {
   "cell_type": "markdown",
   "metadata": {},
   "source": [
    "# look through recipe options, see if any json's are corrupted"
   ]
  },
  {
   "cell_type": "code",
   "execution_count": 15,
   "metadata": {
    "scrolled": true
   },
   "outputs": [
    {
     "name": "stdout",
     "output_type": "stream",
     "text": [
      "D:\\code_projects\\shoppinglist_generator\\baking\\almond_croissant.json\n",
      "D:\\code_projects\\shoppinglist_generator\\baking\\apple_turnover.json\n",
      "D:\\code_projects\\shoppinglist_generator\\baking\\chocolate_croissant.json\n",
      "D:\\code_projects\\shoppinglist_generator\\baking\\croissant.json\n",
      "D:\\code_projects\\shoppinglist_generator\\baking\\dutch_baby.json\n",
      "D:\\code_projects\\shoppinglist_generator\\baking\\fougasse.json\n",
      "D:\\code_projects\\shoppinglist_generator\\baking\\kouign_amman.json\n",
      "D:\\code_projects\\shoppinglist_generator\\baking\\naan_bread.json\n",
      "D:\\code_projects\\shoppinglist_generator\\baking\\opera_cake.json\n",
      "D:\\code_projects\\shoppinglist_generator\\baking\\palmiers.json\n",
      "D:\\code_projects\\shoppinglist_generator\\baking\\portuguese_custard_tarts.json\n",
      "D:\\code_projects\\shoppinglist_generator\\breakfast\\avocado_toast.json\n",
      "D:\\code_projects\\shoppinglist_generator\\breakfast\\crepes_chicken.json\n",
      "D:\\code_projects\\shoppinglist_generator\\breakfast\\crepes_spicy_tuna.json\n",
      "D:\\code_projects\\shoppinglist_generator\\breakfast\\egg_scramble.json\n",
      "D:\\code_projects\\shoppinglist_generator\\breakfast\\french_toast.json\n",
      "D:\\code_projects\\shoppinglist_generator\\breakfast\\mushroom_egg_scramble.json\n",
      "D:\\code_projects\\shoppinglist_generator\\breakfast\\wrap_lucnhmeat.json\n",
      "D:\\code_projects\\shoppinglist_generator\\dinner\\greek_salad.json\n",
      "D:\\code_projects\\shoppinglist_generator\\dinner\\hardshell_tacos.json\n",
      "D:\\code_projects\\shoppinglist_generator\\dinner\\homemade_pasta.json\n",
      "D:\\code_projects\\shoppinglist_generator\\dinner\\indian_chicken_curry.json\n",
      "D:\\code_projects\\shoppinglist_generator\\dinner\\lamb_borek.json\n",
      "D:\\code_projects\\shoppinglist_generator\\dinner\\lasagna.json\n",
      "D:\\code_projects\\shoppinglist_generator\\dinner\\lemon_risotto.json\n",
      "D:\\code_projects\\shoppinglist_generator\\dinner\\oven_chicken.json\n",
      "D:\\code_projects\\shoppinglist_generator\\dinner\\paella.json\n",
      "D:\\code_projects\\shoppinglist_generator\\dinner\\pasta_bolognese.json\n",
      "D:\\code_projects\\shoppinglist_generator\\dinner\\pizza_frozen_dough.json\n",
      "D:\\code_projects\\shoppinglist_generator\\dinner\\pizza_homemade.json\n",
      "D:\\code_projects\\shoppinglist_generator\\dinner\\potstickers.json\n",
      "D:\\code_projects\\shoppinglist_generator\\dinner\\salmon_curry.json\n",
      "D:\\code_projects\\shoppinglist_generator\\dinner\\sausage_roll.json\n",
      "D:\\code_projects\\shoppinglist_generator\\dinner\\shawarma_chicken.json\n",
      "D:\\code_projects\\shoppinglist_generator\\dinner\\spanakopita.json\n",
      "D:\\code_projects\\shoppinglist_generator\\dinner\\spanakopita_frozen.json\n",
      "D:\\code_projects\\shoppinglist_generator\\dinner\\spiced_lamb_meatballs.json\n",
      "D:\\code_projects\\shoppinglist_generator\\dinner\\teriyaki_chicken.json\n",
      "D:\\code_projects\\shoppinglist_generator\\dinner\\teriyaki_salmon.json\n",
      "D:\\code_projects\\shoppinglist_generator\\drinks\\cold_tea.json\n"
     ]
    }
   ],
   "source": [
    "searchstr = '' \n",
    "recipes_all =  glob.glob( recipe_dir  + '/*/*' +searchstr + '*.json' )\n",
    "for recipe in recipes_all: \n",
    "    print(recipe)\n",
    "    # try out opening \n",
    "    with open( recipe , 'r') as f:\n",
    "        recipe_dict = json.load(f)   \n",
    " \n",
    "\n",
    "if generate_pdf: \n",
    "    unique_recipes = cf.unique(recipes_all)   \n",
    "    cf.create_weeklyCookbook( unique_recipes, output_all) "
   ]
  },
  {
   "cell_type": "markdown",
   "metadata": {},
   "source": [
    "# Choose recipes"
   ]
  },
  {
   "cell_type": "code",
   "execution_count": 16,
   "metadata": {},
   "outputs": [],
   "source": [
    "recipes = [\n",
    "            \"dinner\\\\indian_chicken_curry.json\",\n",
    "            \"dinner\\\\salmon_curry.json\", \n",
    "            \"dinner\\\\greek_salad.json\",\n",
    "            \"dinner\\\\homemade_pasta.json\",\n",
    "            \"dinner\\\\pizza_homemade.json\",\n",
    "            \"breakfast\\\\avocado_toast.json\",\n",
    "            \"breakfast\\\\mushroom_egg_scramble.json\", \n",
    "            \"baking\\\\naan_bread.json\", \n",
    "            \"baking\\\\opera_cake.json\" \n",
    "          ]  "
   ]
  },
  {
   "cell_type": "markdown",
   "metadata": {},
   "source": [
    "# Generate weekly cookbook"
   ]
  },
  {
   "cell_type": "code",
   "execution_count": 17,
   "metadata": {
    "scrolled": true
   },
   "outputs": [],
   "source": [
    "\n",
    "os.chdir(recipe_dir) \n",
    "\n",
    "if generate_pdf: \n",
    "    unique_recipes = cf.unique(recipes)   \n",
    "    cf.create_weeklyCookbook( unique_recipes, output_pdf ) \n",
    "#     try: \n",
    "#         cf.create_weeklyCookbook( unique_recipes, output_pdf ) \n",
    "#     except:\n",
    "#         print( 'pdf could not be generated, are pylatex and pearl installed correctly?')"
   ]
  },
  {
   "cell_type": "markdown",
   "metadata": {},
   "source": [
    "# generate shopping list "
   ]
  },
  {
   "cell_type": "code",
   "execution_count": 18,
   "metadata": {},
   "outputs": [
    {
     "name": "stdout",
     "output_type": "stream",
     "text": [
      "avocado toast [2 srv,]\n",
      "coconut-miso salmon curry [4 srv,]\n",
      "daily items [0 srv,]\n",
      "greek salad [15 srv,]\n",
      "homemade pasta [untried,]\n",
      "indian chicken curry [4 srv,]\n",
      "mushroom egg scramble [2 srv,]\n",
      "naan bread [6 srv,]\n",
      "opera cake [12 srv,]\n",
      "pizza, frozen dough [2 srv,]\n",
      "------------------------\n",
      "avocado [1x,]\n",
      "baby spinach [5oz,]\n",
      "basil [1x,1x,]\n",
      "bell pepper [<=1,]\n",
      "cilantro [1x,]\n",
      "crimini mushrooms [5,]\n",
      "cucumber [1,]\n",
      "eggs [13,]\n",
      "garlic [3cl,4cl,6cL,6cloves,]\n",
      "green onion [2,]\n",
      "kalamata olives [1/2 cup,]\n",
      "lime [1x,]\n",
      "onion [1,1x,half,]\n",
      "red bell pepper [1x,]\n",
      "roma tomatoes [2,]\n",
      "yellow bell pepper [1x,]\n",
      "------------------------\n",
      "butter [235g,3tbs,]\n",
      "eggs [2,8,]\n",
      "feta [1/2 lb,]\n",
      "heavy cream [110ml,]\n",
      "milk [150ml,]\n",
      "mozarella [1x,]\n",
      "parmesan cheese [1x,]\n",
      "yoghurt [1 cup,1/4 cup,]\n",
      "------------------------\n",
      " [1x,]\n",
      "breakfast [optional,]\n",
      "chicken boneless [2lb,]\n",
      "pizza meat [1x,]\n",
      "salmon [1.5 lb,]\n",
      "sausage [1x,]\n",
      "spicy ground prok [1lb,]\n",
      "------------------------\n",
      "coriander  is in the pantry\n",
      "cumin  is in the pantry\n",
      "garam masala  is in the pantry\n",
      "turmeric  is in the pantry\n",
      " [1x,]\n",
      "cayenne pepper [1tsp,]\n",
      "curry powder [1.5tbs,]\n",
      "optional) [1x,]\n",
      "------------------------\n",
      "almond meal  is in the pantry\n",
      "miso  is in the pantry\n",
      "olive oil  is in the pantry\n",
      "olive oil  is in the pantry\n",
      "rice  is in the pantry\n",
      "sugar  is in the pantry\n",
      "sugar  is in the pantry\n",
      "sugar  is in the pantry\n",
      "sugar  is in the pantry\n",
      "yeast  is in the pantry\n",
      "all-purpose flour [80g,]\n",
      "almond extract [5g,]\n",
      "basil [1x,]\n",
      "beer [1x,]\n",
      "birthay candles [1x,]\n",
      "bread [1x,]\n",
      "chickpeas [1can,]\n",
      "coating dark chocolate orcandy making and dripping [250g,]\n",
      "cream of tartar [1g,]\n",
      "crushed [15 oz can,]\n",
      "dark chocolate [80g,]\n",
      "dark chocolate couverture 64 [150g,]\n",
      "dark chocolate couverture 66 [150g,]\n",
      "flour [2cups,2 cups,]\n",
      "frozen peas [1bag,]\n",
      "honey [30 ml,]\n",
      "instant coffee [5g,5g,]\n",
      "oil [50ml,8ml,]\n",
      "optional) [1x,]\n",
      "parchment paper [1x,]\n",
      "piping bag [1x,]\n",
      "pizza sauce [1x,]\n",
      "powdered sugar [250g,]\n",
      "sourdough jar [1x,]\n",
      "tomato [1x,]\n",
      "unsweetened coconut milk full fat [1/2,]\n",
      "------------------------\n"
     ]
    }
   ],
   "source": [
    "shopping_recipes = recipes + [other_grocery_file]  # add grocery list not related to recipes\n",
    "\n",
    "cf.generate_shoppinglist( output_shopping_file, shopping_recipes, pantry_file ) "
   ]
  },
  {
   "cell_type": "code",
   "execution_count": null,
   "metadata": {},
   "outputs": [],
   "source": [
    " "
   ]
  },
  {
   "cell_type": "code",
   "execution_count": null,
   "metadata": {},
   "outputs": [],
   "source": []
  }
 ],
 "metadata": {
  "kernelspec": {
   "display_name": "Python 3",
   "language": "python",
   "name": "python3"
  },
  "language_info": {
   "codemirror_mode": {
    "name": "ipython",
    "version": 3
   },
   "file_extension": ".py",
   "mimetype": "text/x-python",
   "name": "python",
   "nbconvert_exporter": "python",
   "pygments_lexer": "ipython3",
   "version": "3.7.1"
  }
 },
 "nbformat": 4,
 "nbformat_minor": 2
}
