{
 "cells": [
  {
   "cell_type": "code",
   "execution_count": 1,
   "metadata": {},
   "outputs": [],
   "source": [
    "import numpy as np \n",
    "import json\n",
    "import glob \n",
    "import os\n",
    "import re\n",
    "import cooking_functions as cf  "
   ]
  },
  {
   "cell_type": "markdown",
   "metadata": {},
   "source": [
    "# set locations "
   ]
  },
  {
   "cell_type": "code",
   "execution_count": 2,
   "metadata": {},
   "outputs": [],
   "source": [
    "recipe_dir = os.getcwd()\n",
    "os.chdir(recipe_dir) \n",
    "\n",
    "base_folder =True\n",
    "\n",
    "if base_folder:\n",
    "    output_pdf = recipe_dir + \"\\\\recipes_weekly\"  \n",
    "    output_shopping_file = recipe_dir + \"\\\\shopping_list.txt\" \n",
    "    other_grocery_file = recipe_dir + \"\\\\other_groceries.json\" \n",
    "    pantry_file = recipe_dir + \"\\\\pantry.json \" \n",
    "else:  \n",
    "    output_pdf = \"D:\\\\Mijn_documenten\\\\Dropbox\\\\J_Cooking\\\\recipes_weekly\" \n",
    "    output_shopping_file = \"D:\\\\Mijn_documenten\\\\Dropbox\\\\J_Cooking\\\\shopping_list.txt\"  \n",
    "    other_grocery_file = \"D:\\\\Mijn_documenten\\\\Dropbox\\\\\\\\J_Cooking\\\\other_groceries.json\"  \n",
    "    pantry_file = \"D:\\\\Mijn_documenten\\\\Dropbox\\\\J_Cooking\\\\pantry.json\""
   ]
  },
  {
   "cell_type": "markdown",
   "metadata": {},
   "source": [
    "# look through recipe options "
   ]
  },
  {
   "cell_type": "code",
   "execution_count": 3,
   "metadata": {},
   "outputs": [],
   "source": [
    "searchstr = '' \n",
    "recipes =  glob.glob( recipe_dir  + '/*/*' +searchstr + '*.json' )"
   ]
  },
  {
   "cell_type": "markdown",
   "metadata": {},
   "source": [
    "# Choose recipes"
   ]
  },
  {
   "cell_type": "code",
   "execution_count": 4,
   "metadata": {},
   "outputs": [],
   "source": [
    "recipes = [  \"dinner\\\\spiced_lamb_meatballs.json\",\n",
    "       \"dinner\\\\lasagna.json\",\n",
    "       \"dinner\\\\pizza_frozen_dough.json\", \"breakfast\\\\avocado_toast.json\", \n",
    "       \"breakfast\\\\sausage_scramble.json\",  \n",
    "       \"breakfast\\\\egg_scramble.json\",  \n",
    "       \"breakfast\\\\egg_scramble.json\"\n",
    "          ]  "
   ]
  },
  {
   "cell_type": "markdown",
   "metadata": {},
   "source": [
    "# Generate weekly cookbook"
   ]
  },
  {
   "cell_type": "code",
   "execution_count": 5,
   "metadata": {},
   "outputs": [
    {
     "name": "stdout",
     "output_type": "stream",
     "text": [
      "dinner\\spiced_lamb_meatballs.json\n",
      "dinner\\lasagna.json\n",
      "dinner\\pizza_frozen_dough.json\n",
      "breakfast\\avocado_toast.json\n",
      "breakfast\\sausage_scramble.json\n",
      "breakfast\\egg_scramble.json\n"
     ]
    }
   ],
   "source": [
    "generate_pdf = True\n",
    "\n",
    "if generate_pdf: \n",
    "    unique_recipes = cf.unique(recipes)   \n",
    "    try: \n",
    "        cf.create_weeklyCookbook( unique_recipes, output_pdf ) \n",
    "    except:\n",
    "        print( 'pdf could not be generated, are pylatex and pearl installed correctly?')"
   ]
  },
  {
   "cell_type": "markdown",
   "metadata": {},
   "source": [
    "# generate shopping list "
   ]
  },
  {
   "cell_type": "code",
   "execution_count": 6,
   "metadata": {},
   "outputs": [
    {
     "name": "stdout",
     "output_type": "stream",
     "text": [
      "avocado toast [2 srv,]\n",
      "egg scramble [2 srv,2 srv,]\n",
      "lasagna [6 srv,]\n",
      "other groceries [0 srv,]\n",
      "pizza, frozen dough [2 srv,]\n",
      "sausage egg scramble [2 srv,]\n",
      "spiced lamb meatballs on pita with yoghurt [3 srv,]\n",
      "------------------------\n",
      "avocado [1x,]\n",
      "basil [1x,]\n",
      "bell pepper [<=1,]\n",
      "cilantro [1x,]\n",
      "crimini mushrooms [5,]\n",
      "dill [1x,]\n",
      "garlic [2cl,]\n",
      "green onion [2,4,4,]\n",
      "lemon [1x,]\n",
      "mint [1x,]\n",
      "tomato [1,1,]\n",
      "------------------------\n",
      "butter [6 tablespoons,]\n",
      "cheese, grated [1/2 cup?,]\n",
      "eggs [2,6,6,]\n",
      "milk [1qt,]\n",
      "yoghurt [1cup,]\n",
      "------------------------\n",
      "ground lamb [1 lb,]\n",
      "pork [1lb,]\n",
      "prosciuto [1x,]\n",
      "sausage, breakfast [3,]\n",
      "------------------------\n",
      "cumin  is in the pantry\n",
      "nutmeg  is in the pantry\n",
      "coriander [1tbs,]\n",
      "paprika [1 tbs,]\n",
      "------------------------\n",
      "flour  is in the pantry\n",
      "frozen dough  is in the pantry\n",
      "lasagna sheets  is in the pantry\n",
      "olive oil  is in the pantry\n",
      "tomato sauce  is in the pantry\n",
      "beer [1x,]\n",
      "bread [1x,]\n",
      "miso [1x,]\n",
      "pita breads [3,]\n",
      "pizza sauce [1x,]\n",
      "rice, brown [1x,]\n",
      "sun-dried tomatoes [1x,]\n",
      "------------------------\n"
     ]
    }
   ],
   "source": [
    "shopping_recipes = recipes + [other_grocery_file]  # add grocery list not related to recipes\n",
    "\n",
    "cf.generate_shoppinglist( output_shopping_file, shopping_recipes, pantry_file ) "
   ]
  },
  {
   "cell_type": "code",
   "execution_count": null,
   "metadata": {},
   "outputs": [],
   "source": []
  }
 ],
 "metadata": {
  "kernelspec": {
   "display_name": "Python 3",
   "language": "python",
   "name": "python3"
  },
  "language_info": {
   "codemirror_mode": {
    "name": "ipython",
    "version": 3
   },
   "file_extension": ".py",
   "mimetype": "text/x-python",
   "name": "python",
   "nbconvert_exporter": "python",
   "pygments_lexer": "ipython3",
   "version": "3.7.1"
  }
 },
 "nbformat": 4,
 "nbformat_minor": 2
}
