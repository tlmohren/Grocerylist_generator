{
 "cells": [
  {
   "cell_type": "code",
   "execution_count": 4,
   "metadata": {},
   "outputs": [],
   "source": [
    "import numpy as np \n",
    "import json\n",
    "import glob \n",
    "import os\n",
    "import re\n",
    "import cooking_functions as cf  "
   ]
  },
  {
   "cell_type": "markdown",
   "metadata": {},
   "source": [
    "# set locations "
   ]
  },
  {
   "cell_type": "code",
   "execution_count": 5,
   "metadata": {},
   "outputs": [],
   "source": [
    "recipe_dir = os.getcwd()\n",
    "os.chdir(recipe_dir) \n",
    "\n",
    "base_folder = False\n",
    "\n",
    "if base_folder:\n",
    "    output_pdf = recipe_dir + \"\\\\recipes_weekly\"  \n",
    "    output_shopping_file = recipe_dir + \"\\\\shopping_list.txt\" \n",
    "    other_grocery_file = recipe_dir + \"\\\\other_groceries.json\" \n",
    "    pantry_file = recipe_dir + \"\\\\pantry.json \" \n",
    "else:  \n",
    "    output_pdf = \"D:\\\\Mijn_documenten\\\\Dropbox\\\\J_Cooking\\\\recipes_weekly\" \n",
    "    output_shopping_file = \"D:\\\\Mijn_documenten\\\\Dropbox\\\\J_Cooking\\\\shopping_list.txt\"  \n",
    "    other_grocery_file = \"D:\\\\Mijn_documenten\\\\Dropbox\\\\\\\\J_Cooking\\\\other_groceries.json\"  \n",
    "    pantry_file = \"D:\\\\Mijn_documenten\\\\Dropbox\\\\J_Cooking\\\\pantry.json\""
   ]
  },
  {
   "cell_type": "markdown",
   "metadata": {},
   "source": [
    "# look through recipe options, see if any json's are corrupted"
   ]
  },
  {
   "cell_type": "code",
   "execution_count": 6,
   "metadata": {},
   "outputs": [
    {
     "name": "stdout",
     "output_type": "stream",
     "text": [
      "D:\\Code_projects\\Shoppinglist_generator\\breakfast\\avocado_toast.json\n",
      "D:\\Code_projects\\Shoppinglist_generator\\breakfast\\crepes_chicken.json\n",
      "D:\\Code_projects\\Shoppinglist_generator\\breakfast\\egg_scramble.json\n",
      "D:\\Code_projects\\Shoppinglist_generator\\breakfast\\french_toast.json\n",
      "D:\\Code_projects\\Shoppinglist_generator\\breakfast\\mushroom_egg_scramble.json\n",
      "D:\\Code_projects\\Shoppinglist_generator\\dinner\\greek_salad.json\n",
      "D:\\Code_projects\\Shoppinglist_generator\\dinner\\indian_chicken_curry.json\n",
      "D:\\Code_projects\\Shoppinglist_generator\\dinner\\lasagna.json\n",
      "D:\\Code_projects\\Shoppinglist_generator\\dinner\\lemon_risotto.json\n",
      "D:\\Code_projects\\Shoppinglist_generator\\dinner\\oven_chicken.json\n",
      "D:\\Code_projects\\Shoppinglist_generator\\dinner\\pasta_bolognese.json\n",
      "D:\\Code_projects\\Shoppinglist_generator\\dinner\\pizza_frozen_dough.json\n",
      "D:\\Code_projects\\Shoppinglist_generator\\dinner\\potstickers.json\n",
      "D:\\Code_projects\\Shoppinglist_generator\\dinner\\shawarma_chicken.json\n",
      "D:\\Code_projects\\Shoppinglist_generator\\dinner\\spanakopita.json\n",
      "D:\\Code_projects\\Shoppinglist_generator\\dinner\\spiced_lamb_meatballs.json\n",
      "D:\\Code_projects\\Shoppinglist_generator\\dinner\\teriyaki_chicken.json\n",
      "D:\\Code_projects\\Shoppinglist_generator\\dinner\\teriyaki_salmon.json\n",
      "D:\\Code_projects\\Shoppinglist_generator\\lunch\\wrap_lucnhmeat.json\n",
      "D:\\Code_projects\\Shoppinglist_generator\\untried_recipes\\template.json\n"
     ]
    }
   ],
   "source": [
    "searchstr = '' \n",
    "recipes =  glob.glob( recipe_dir  + '/*/*' +searchstr + '*.json' )\n",
    "for recipe in recipes: \n",
    "    print(recipe)\n",
    "    \n",
    "    # try out opening \n",
    "    with open( recipe , 'r') as f:\n",
    "        recipe_dict = json.load(f)   "
   ]
  },
  {
   "cell_type": "markdown",
   "metadata": {},
   "source": [
    "# Choose recipes"
   ]
  },
  {
   "cell_type": "code",
   "execution_count": 7,
   "metadata": {},
   "outputs": [],
   "source": [
    "recipes = [  \"dinner\\\\spanakopita.json\",\n",
    "           \"dinner\\\\greek_salad.json\",\n",
    "           \"dinner\\\\potstickers.json\",\n",
    "           \"dinner\\\\pizza_frozen_dough.json\",\n",
    "           \"dinner\\\\teriyaki_salmon.json\",\n",
    "           \"dinner\\\\teriyaki_chicken.json\", \n",
    "            \"dinner\\\\indian_chicken_curry.json\",\n",
    "           \"breakfast\\\\french_toast.json\",\n",
    "       \"breakfast\\\\egg_scramble.json\",  \n",
    "       \"breakfast\\\\avocado_toast.json\", \n",
    "        \"breakfast\\\\crepes_chicken.json\"\n",
    "          ]  "
   ]
  },
  {
   "cell_type": "markdown",
   "metadata": {},
   "source": [
    "# Generate weekly cookbook"
   ]
  },
  {
   "cell_type": "code",
   "execution_count": 8,
   "metadata": {
    "scrolled": true
   },
   "outputs": [
    {
     "name": "stdout",
     "output_type": "stream",
     "text": [
      "dinner\\spanakopita.json\n",
      "dinner\\greek_salad.json\n",
      "dinner\\potstickers.json\n",
      "dinner\\pizza_frozen_dough.json\n",
      "dinner\\teriyaki_salmon.json\n",
      "dinner\\teriyaki_chicken.json\n",
      "dinner\\indian_chicken_curry.json\n",
      "breakfast\\french_toast.json\n",
      "breakfast\\egg_scramble.json\n",
      "breakfast\\avocado_toast.json\n",
      "breakfast\\crepes_chicken.json\n"
     ]
    }
   ],
   "source": [
    "generate_pdf = True\n",
    "\n",
    "if generate_pdf: \n",
    "    unique_recipes = cf.unique(recipes)   \n",
    "#     cf.create_weeklyCookbook( unique_recipes, output_pdf ) \n",
    "    try: \n",
    "        cf.create_weeklyCookbook( unique_recipes, output_pdf ) \n",
    "    except:\n",
    "        print( 'pdf could not be generated, are pylatex and pearl installed correctly?')"
   ]
  },
  {
   "cell_type": "markdown",
   "metadata": {},
   "source": [
    "# generate shopping list "
   ]
  },
  {
   "cell_type": "code",
   "execution_count": 9,
   "metadata": {},
   "outputs": [
    {
     "name": "stdout",
     "output_type": "stream",
     "text": [
      "avocado toast [2 srv,]\n",
      "chicken pesto crepes [1 srv,]\n",
      "daily items [0 srv,]\n",
      "egg scramble [2 srv,]\n",
      "french toast [1 srv,]\n",
      "greek salad [6 srv,]\n",
      "indian chicken curry [4 srv,]\n",
      "pizza, frozen dough [2 srv,]\n",
      "potstickers [3 srv,]\n",
      "spanakopita [5 srv,]\n",
      "teriyaki chicken [4 srv,]\n",
      "teriyaki salmon [4 srv,]\n",
      "------------------------\n",
      "avocado [1x,]\n",
      "broccoli [2stalks,2stalks,]\n",
      "cabbage [optional,]\n",
      "cucumber [1,]\n",
      "garlic [2+cl,2cl,5cl,6cloves,4cl,]\n",
      "ginger [1x,1x,1+tbs,]\n",
      "green cabbage [1/4,half,]\n",
      "green onion [2,2,4,]\n",
      "kalamata olives [1/2 cup,]\n",
      "mushrooms [5,]\n",
      "onion [1/2,1x,]\n",
      "red bell pepper [1x,]\n",
      "roma tomatoes [2,]\n",
      "spinach [1lb,]\n",
      "spinach leaves [1x,]\n",
      "tomato [1,]\n",
      "yellow bell pepper [1x,]\n",
      "------------------------\n",
      "butter [1 stick,1/4 stick,1tbs,]\n",
      "eggs [1,2,6,2,]\n",
      "feta [1/2lb,]\n",
      "feta cheese [1/2 lb,]\n",
      "milk [1/2 cup,1/2cup,]\n",
      "parmezan cheese [4oz,]\n",
      "yoghurt [1 cup,]\n",
      "------------------------\n",
      "chicken [1/4lb,]\n",
      "chicken thighs [4 pieces,]\n",
      "chicken, breast halves [2lb,]\n",
      "ground pork [1lb,]\n",
      "prosciuto [1x,]\n",
      "salmon [1lb,]\n",
      "------------------------\n",
      "cayenne pepper  is in the pantry\n",
      "cinnamon  is in the pantry\n",
      "cumin  is in the pantry\n",
      "nutmeg  is in the pantry\n",
      "turmeric  is in the pantry\n",
      "coriander [1sp,]\n",
      "curry powder [1.5tbs,]\n",
      "dijon mustard [1/2tsp,]\n",
      "dried oregano [1tsp,]\n",
      "garam masala [1tsp, optional,]\n",
      "------------------------\n",
      "flour  is in the pantry\n",
      "frozen pizza dough  is in the pantry\n",
      "olive oil  is in the pantry\n",
      "olive oil  is in the pantry\n",
      "powdered sugar  is in the pantry\n",
      "sesame oil  is in the pantry\n",
      "sesame oil  is in the pantry\n",
      "sesame oil  is in the pantry\n",
      "soy sauce  is in the pantry\n",
      "soy sauce  is in the pantry\n",
      "soy sauce  is in the pantry\n",
      "sriratcha  is in the pantry\n",
      "sugar  is in the pantry\n",
      "sugar  is in the pantry\n",
      "beer [1x,]\n",
      "bread [1x,4 slices,]\n",
      "brown rice [1cup,1cup,1cup,]\n",
      "chickpeas [1can,]\n",
      "frozen peas [1bag,]\n",
      "la croix [1x,]\n",
      "miso [1x,]\n",
      "phyllo sheets [10x,]\n",
      "pizza sauce [1x,]\n",
      "red wine vinegar [1x,]\n",
      "rice [2 cups,]\n",
      "sun-dried tomatoes [1x,]\n",
      "tomato, crushed [15 oz can,]\n",
      "won ton wrappers [36,]\n",
      "------------------------\n"
     ]
    }
   ],
   "source": [
    "shopping_recipes = recipes + [other_grocery_file]  # add grocery list not related to recipes\n",
    "\n",
    "cf.generate_shoppinglist( output_shopping_file, shopping_recipes, pantry_file ) "
   ]
  },
  {
   "cell_type": "code",
   "execution_count": null,
   "metadata": {},
   "outputs": [],
   "source": [
    " "
   ]
  },
  {
   "cell_type": "code",
   "execution_count": null,
   "metadata": {},
   "outputs": [],
   "source": []
  }
 ],
 "metadata": {
  "kernelspec": {
   "display_name": "Python 3",
   "language": "python",
   "name": "python3"
  },
  "language_info": {
   "codemirror_mode": {
    "name": "ipython",
    "version": 3
   },
   "file_extension": ".py",
   "mimetype": "text/x-python",
   "name": "python",
   "nbconvert_exporter": "python",
   "pygments_lexer": "ipython3",
   "version": "3.7.1"
  }
 },
 "nbformat": 4,
 "nbformat_minor": 2
}
