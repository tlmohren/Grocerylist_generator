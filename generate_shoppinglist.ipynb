{
 "cells": [
  {
   "cell_type": "code",
   "execution_count": 102,
   "metadata": {},
   "outputs": [],
   "source": [
    "import numpy as np \n",
    "import json\n",
    "import glob \n",
    "import os\n",
    "import re\n",
    "import cooking_functions as cf  "
   ]
  },
  {
   "cell_type": "markdown",
   "metadata": {},
   "source": [
    "# set locations "
   ]
  },
  {
   "cell_type": "code",
   "execution_count": 103,
   "metadata": {},
   "outputs": [],
   "source": [
    "recipe_dir = os.getcwd()\n",
    "os.chdir(recipe_dir) \n",
    "\n",
    "base_folder = False\n",
    "\n",
    "if base_folder:\n",
    "    output_pdf = recipe_dir + \"\\\\recipes_weekly\"  \n",
    "    output_shopping_file = recipe_dir + \"\\\\shopping_list.txt\" \n",
    "    other_grocery_file = recipe_dir + \"\\\\other_groceries.json\" \n",
    "    pantry_file = recipe_dir + \"\\\\pantry.json \" \n",
    "else:  \n",
    "    output_pdf = \"D:\\\\Mijn_documenten\\\\Dropbox\\\\J_Cooking\\\\recipes_weekly\" \n",
    "    output_shopping_file = \"D:\\\\Mijn_documenten\\\\Dropbox\\\\J_Cooking\\\\shopping_list.txt\"  \n",
    "    other_grocery_file = \"D:\\\\Mijn_documenten\\\\Dropbox\\\\\\\\J_Cooking\\\\other_groceries.json\"  \n",
    "    pantry_file = \"D:\\\\Mijn_documenten\\\\Dropbox\\\\J_Cooking\\\\pantry.json\""
   ]
  },
  {
   "cell_type": "markdown",
   "metadata": {},
   "source": [
    "# look through recipe options, see if any json's are corrupted"
   ]
  },
  {
   "cell_type": "code",
   "execution_count": 104,
   "metadata": {
    "scrolled": true
   },
   "outputs": [
    {
     "name": "stdout",
     "output_type": "stream",
     "text": [
      "D:\\code_projects\\shoppinglist_generator\\baking\\apple_turnover.json\n",
      "D:\\code_projects\\shoppinglist_generator\\baking\\chocolate_croissant.json\n",
      "D:\\code_projects\\shoppinglist_generator\\baking\\croissant.json\n",
      "D:\\code_projects\\shoppinglist_generator\\baking\\dutch_baby.json\n",
      "D:\\code_projects\\shoppinglist_generator\\baking\\fougasse.json\n",
      "D:\\code_projects\\shoppinglist_generator\\baking\\kouign_amman.json\n",
      "D:\\code_projects\\shoppinglist_generator\\baking\\naan_bread.json\n",
      "D:\\code_projects\\shoppinglist_generator\\baking\\palmiers.json\n",
      "D:\\code_projects\\shoppinglist_generator\\baking\\portuguese_custard_tarts.json\n",
      "D:\\code_projects\\shoppinglist_generator\\breakfast\\avocado_toast.json\n",
      "D:\\code_projects\\shoppinglist_generator\\breakfast\\crepes_chicken.json\n",
      "D:\\code_projects\\shoppinglist_generator\\breakfast\\crepes_spicy_tuna.json\n",
      "D:\\code_projects\\shoppinglist_generator\\breakfast\\egg_scramble.json\n",
      "D:\\code_projects\\shoppinglist_generator\\breakfast\\french_toast.json\n",
      "D:\\code_projects\\shoppinglist_generator\\breakfast\\mushroom_egg_scramble.json\n",
      "D:\\code_projects\\shoppinglist_generator\\breakfast\\wrap_lucnhmeat.json\n",
      "D:\\code_projects\\shoppinglist_generator\\dinner\\greek_salad.json\n",
      "D:\\code_projects\\shoppinglist_generator\\dinner\\hardshell_tacos.json\n",
      "D:\\code_projects\\shoppinglist_generator\\dinner\\homemade_pasta.json\n",
      "D:\\code_projects\\shoppinglist_generator\\dinner\\indian_chicken_curry.json\n",
      "D:\\code_projects\\shoppinglist_generator\\dinner\\lamb_borek.json\n",
      "D:\\code_projects\\shoppinglist_generator\\dinner\\lasagna.json\n",
      "D:\\code_projects\\shoppinglist_generator\\dinner\\lemon_risotto.json\n",
      "D:\\code_projects\\shoppinglist_generator\\dinner\\oven_chicken.json\n",
      "D:\\code_projects\\shoppinglist_generator\\dinner\\paella.json\n",
      "D:\\code_projects\\shoppinglist_generator\\dinner\\pasta_bolognese.json\n",
      "D:\\code_projects\\shoppinglist_generator\\dinner\\pizza_frozen_dough.json\n",
      "D:\\code_projects\\shoppinglist_generator\\dinner\\potstickers.json\n",
      "D:\\code_projects\\shoppinglist_generator\\dinner\\sausage_roll.json\n",
      "D:\\code_projects\\shoppinglist_generator\\dinner\\shawarma_chicken.json\n",
      "D:\\code_projects\\shoppinglist_generator\\dinner\\spanakopita.json\n",
      "D:\\code_projects\\shoppinglist_generator\\dinner\\spanakopita_frozen.json\n",
      "D:\\code_projects\\shoppinglist_generator\\dinner\\spiced_lamb_meatballs.json\n",
      "D:\\code_projects\\shoppinglist_generator\\dinner\\teriyaki_chicken.json\n",
      "D:\\code_projects\\shoppinglist_generator\\dinner\\teriyaki_salmon.json\n",
      "D:\\code_projects\\shoppinglist_generator\\drinks\\cold_tea.json\n"
     ]
    }
   ],
   "source": [
    "searchstr = '' \n",
    "recipes =  glob.glob( recipe_dir  + '/*/*' +searchstr + '*.json' )\n",
    "for recipe in recipes: \n",
    "    print(recipe)\n",
    "    # try out opening \n",
    "    with open( recipe , 'r') as f:\n",
    "        recipe_dict = json.load(f)   "
   ]
  },
  {
   "cell_type": "markdown",
   "metadata": {},
   "source": [
    "# Choose recipes"
   ]
  },
  {
   "cell_type": "code",
   "execution_count": 105,
   "metadata": {},
   "outputs": [],
   "source": [
    "recipes = [\n",
    "            \"dinner\\\\indian_chicken_curry.json\",\n",
    "           \"dinner\\\\sausage_roll.json\",\n",
    "           \"breakfast\\\\avocado_toast.json\",\n",
    "           \"breakfast\\\\mushroom_egg_scramble.json\", \n",
    "            \"baking\\\\naan_bread.json\",\n",
    "           \"baking\\\\palmiers.json\",\n",
    "           \"baking\\\\croissant.json\",\n",
    "           \"baking\\\\chocolate_croissant.json\",\n",
    "           \"baking\\\\fougasse.json\",\n",
    "           \"baking\\\\apple_turnover.json\",\n",
    "          ]  "
   ]
  },
  {
   "cell_type": "markdown",
   "metadata": {},
   "source": [
    "# Generate weekly cookbook"
   ]
  },
  {
   "cell_type": "code",
   "execution_count": 106,
   "metadata": {
    "scrolled": true
   },
   "outputs": [
    {
     "name": "stdout",
     "output_type": "stream",
     "text": [
      "dinner\\indian_chicken_curry.json\n",
      "dinner\\sausage_roll.json\n",
      "breakfast\\avocado_toast.json\n",
      "breakfast\\mushroom_egg_scramble.json\n",
      "baking\\naan_bread.json\n",
      "baking\\palmiers.json\n",
      "baking\\croissant.json\n",
      "baking\\chocolate_croissant.json\n",
      "baking\\fougasse.json\n",
      "baking\\apple_turnover.json\n"
     ]
    }
   ],
   "source": [
    "generate_pdf = True\n",
    "\n",
    "if generate_pdf: \n",
    "    unique_recipes = cf.unique(recipes)   \n",
    "    cf.create_weeklyCookbook( unique_recipes, output_pdf ) \n",
    "#     try: \n",
    "#         cf.create_weeklyCookbook( unique_recipes, output_pdf ) \n",
    "#     except:\n",
    "#         print( 'pdf could not be generated, are pylatex and pearl installed correctly?')"
   ]
  },
  {
   "cell_type": "markdown",
   "metadata": {},
   "source": [
    "# generate shopping list "
   ]
  },
  {
   "cell_type": "code",
   "execution_count": 107,
   "metadata": {},
   "outputs": [
    {
     "name": "stdout",
     "output_type": "stream",
     "text": [
      "apple turnovers [untried,]\n",
      "avocado toast [2 srv,]\n",
      "croissants [6 srv,7 srv,]\n",
      "daily items [0 srv,]\n",
      "fougasse [3 srv,]\n",
      "indian chicken curry [4 srv,]\n",
      "mushroom egg scramble [2 srv,]\n",
      "naan bread [6 srv,]\n",
      "palmiers [untried,]\n",
      "sausage roll [untried,]\n",
      "------------------------\n",
      "avocado [1x,]\n",
      "bell pepper [<=1,]\n",
      "crimini mushrooms [5,]\n",
      "garlic [1cl,4cl,6cloves,]\n",
      "golden delicious [1lb,]\n",
      "granny smith [1lb,]\n",
      "green onion [2,]\n",
      "lemon [1,]\n",
      "onion [1/4,1x,]\n",
      "optional) [1x,]\n",
      "pitted green olives [3oz,]\n",
      "pitted kalamata olives [3oz,]\n",
      "pitted oil cured black olives [3oz,]\n",
      "thyme [3 branches,]\n",
      "------------------------\n",
      "butter [2 sticks + 6 tablespoons,2 sticks + 6 tablespoons,3tbs,]\n",
      "egg [1,1,1,]\n",
      "eggs [2,]\n",
      "european butter [4.5 sticks,]\n",
      "yoghurt [1 cup,1/4 cup,]\n",
      "------------------------\n",
      " [1x,]\n",
      "chicken [2lb,]\n",
      "chicken boneless [2lb,]\n",
      "ground pork [1lb,]\n",
      "sausage, breakfast [optional,]\n",
      "------------------------\n",
      "cayenne pepper  is in the pantry\n",
      "cumin  is in the pantry\n",
      "nutmeg  is in the pantry\n",
      "turmeric  is in the pantry\n",
      " [1x,]\n",
      "cayenne [1/8tsp,]\n",
      "coriander [1/4tsp,1sp,]\n",
      "curry powder [1.5tbs,]\n",
      "dried [1/4sp,]\n",
      "garam masala [1tsp,]\n",
      "herbes de provence [1/4 tsp optional,]\n",
      "optional) [1x,]\n",
      "sage 1tsp [1x,]\n",
      "thyme [1x,]\n",
      "------------------------\n",
      "flour  is in the pantry\n",
      "sugar  is in the pantry\n",
      "sugar  is in the pantry\n",
      "sugar  is in the pantry\n",
      "all purpose flour [175+175 g,700g,]\n",
      "beer [1x,]\n",
      "bread [1x,optional,]\n",
      "bread flour [175g,]\n",
      "bread flower [3 1/2 cup,3 1/2 cup,]\n",
      "breadcrums [1tbs,]\n",
      "chickpeas [1can,]\n",
      "chocolate [~70g,]\n",
      "crushed [15 oz can,]\n",
      "dark chocolate [1bar?,]\n",
      "fine semolina [30g,]\n",
      "frozen peas [1bag,]\n",
      "frozen puff pastry [1sheet,]\n",
      "instant yeast [2.5g,]\n",
      "large zip lock bags [1x,]\n",
      "rice [2 cups,]\n",
      "sesame seeds [1x,]\n",
      "tomato [1x,]\n",
      "water jug [1,]\n",
      "wine [1x,]\n",
      "yeast [1 package,1 packet,1 packet,]\n",
      "------------------------\n"
     ]
    }
   ],
   "source": [
    "shopping_recipes = recipes + [other_grocery_file]  # add grocery list not related to recipes\n",
    "\n",
    "cf.generate_shoppinglist( output_shopping_file, shopping_recipes, pantry_file ) "
   ]
  },
  {
   "cell_type": "code",
   "execution_count": null,
   "metadata": {},
   "outputs": [],
   "source": [
    " "
   ]
  },
  {
   "cell_type": "code",
   "execution_count": null,
   "metadata": {},
   "outputs": [],
   "source": []
  }
 ],
 "metadata": {
  "kernelspec": {
   "display_name": "Python 3",
   "language": "python",
   "name": "python3"
  },
  "language_info": {
   "codemirror_mode": {
    "name": "ipython",
    "version": 3
   },
   "file_extension": ".py",
   "mimetype": "text/x-python",
   "name": "python",
   "nbconvert_exporter": "python",
   "pygments_lexer": "ipython3",
   "version": "3.7.1"
  }
 },
 "nbformat": 4,
 "nbformat_minor": 2
}
