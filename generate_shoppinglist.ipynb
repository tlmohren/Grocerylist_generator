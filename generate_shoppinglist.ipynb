{
 "cells": [
  {
   "cell_type": "code",
   "execution_count": 7,
   "metadata": {},
   "outputs": [],
   "source": [
    "import numpy as np \n",
    "import json\n",
    "import glob \n",
    "import os\n",
    "import re\n",
    "import cooking_functions as cf  "
   ]
  },
  {
   "cell_type": "markdown",
   "metadata": {},
   "source": [
    "# set locations "
   ]
  },
  {
   "cell_type": "code",
   "execution_count": 8,
   "metadata": {},
   "outputs": [],
   "source": [
    "recipe_dir = os.getcwd()\n",
    "os.chdir(recipe_dir) \n",
    "\n",
    "base_folder = False\n",
    "\n",
    "if base_folder:\n",
    "    output_pdf = recipe_dir + \"\\\\recipes_weekly\"  \n",
    "    output_shopping_file = recipe_dir + \"\\\\shopping_list.txt\" \n",
    "    other_grocery_file = recipe_dir + \"\\\\other_groceries.json\" \n",
    "    pantry_file = recipe_dir + \"\\\\pantry.json \" \n",
    "else:  \n",
    "    output_pdf = \"D:\\\\Mijn_documenten\\\\Dropbox\\\\J_Cooking\\\\recipes_weekly\" \n",
    "    output_shopping_file = \"D:\\\\Mijn_documenten\\\\Dropbox\\\\J_Cooking\\\\shopping_list.txt\"  \n",
    "    other_grocery_file = \"D:\\\\Mijn_documenten\\\\Dropbox\\\\\\\\J_Cooking\\\\other_groceries.json\"  \n",
    "    pantry_file = \"D:\\\\Mijn_documenten\\\\Dropbox\\\\J_Cooking\\\\pantry.json\""
   ]
  },
  {
   "cell_type": "markdown",
   "metadata": {},
   "source": [
    "# look through recipe options, see if any json's are corrupted"
   ]
  },
  {
   "cell_type": "code",
   "execution_count": 9,
   "metadata": {
    "scrolled": true
   },
   "outputs": [
    {
     "name": "stdout",
     "output_type": "stream",
     "text": [
      "D:\\code_projects\\shoppinglist_generator\\baking\\croissant.json\n",
      "D:\\code_projects\\shoppinglist_generator\\baking\\dutch_baby.json\n",
      "D:\\code_projects\\shoppinglist_generator\\baking\\naan_bread.json\n",
      "D:\\code_projects\\shoppinglist_generator\\baking\\portuguese_custard_tarts.json\n",
      "D:\\code_projects\\shoppinglist_generator\\breakfast\\avocado_toast.json\n",
      "D:\\code_projects\\shoppinglist_generator\\breakfast\\crepes_chicken.json\n",
      "D:\\code_projects\\shoppinglist_generator\\breakfast\\crepes_spicy_tuna.json\n",
      "D:\\code_projects\\shoppinglist_generator\\breakfast\\egg_scramble.json\n",
      "D:\\code_projects\\shoppinglist_generator\\breakfast\\french_toast.json\n",
      "D:\\code_projects\\shoppinglist_generator\\breakfast\\mushroom_egg_scramble.json\n",
      "D:\\code_projects\\shoppinglist_generator\\dinner\\greek_salad.json\n",
      "D:\\code_projects\\shoppinglist_generator\\dinner\\hardshell_tacos.json\n",
      "D:\\code_projects\\shoppinglist_generator\\dinner\\indian_chicken_curry.json\n",
      "D:\\code_projects\\shoppinglist_generator\\dinner\\lasagna.json\n",
      "D:\\code_projects\\shoppinglist_generator\\dinner\\lemon_risotto.json\n",
      "D:\\code_projects\\shoppinglist_generator\\dinner\\naan_bread.json\n",
      "D:\\code_projects\\shoppinglist_generator\\dinner\\oven_chicken.json\n",
      "D:\\code_projects\\shoppinglist_generator\\dinner\\pasta_bolognese.json\n",
      "D:\\code_projects\\shoppinglist_generator\\dinner\\pizza_frozen_dough.json\n",
      "D:\\code_projects\\shoppinglist_generator\\dinner\\potstickers.json\n",
      "D:\\code_projects\\shoppinglist_generator\\dinner\\shawarma_chicken.json\n",
      "D:\\code_projects\\shoppinglist_generator\\dinner\\spanakopita.json\n",
      "D:\\code_projects\\shoppinglist_generator\\dinner\\spanakopita_frozen.json\n",
      "D:\\code_projects\\shoppinglist_generator\\dinner\\spiced_lamb_meatballs.json\n",
      "D:\\code_projects\\shoppinglist_generator\\dinner\\teriyaki_chicken.json\n",
      "D:\\code_projects\\shoppinglist_generator\\dinner\\teriyaki_salmon.json\n",
      "D:\\code_projects\\shoppinglist_generator\\drinks\\cold_tea.json\n",
      "D:\\code_projects\\shoppinglist_generator\\lunch\\wrap_lucnhmeat.json\n",
      "D:\\code_projects\\shoppinglist_generator\\untried_recipes\\apple_turnover.json\n",
      "D:\\code_projects\\shoppinglist_generator\\untried_recipes\\homemade_pasta.json\n",
      "D:\\code_projects\\shoppinglist_generator\\untried_recipes\\kouign_amman.json\n",
      "D:\\code_projects\\shoppinglist_generator\\untried_recipes\\lamb_borek.json\n",
      "D:\\code_projects\\shoppinglist_generator\\untried_recipes\\paella.json\n",
      "D:\\code_projects\\shoppinglist_generator\\untried_recipes\\palmiers.json\n",
      "D:\\code_projects\\shoppinglist_generator\\untried_recipes\\sausage_roll.json\n",
      "D:\\code_projects\\shoppinglist_generator\\untried_recipes\\template.json\n"
     ]
    }
   ],
   "source": [
    "searchstr = '' \n",
    "recipes =  glob.glob( recipe_dir  + '/*/*' +searchstr + '*.json' )\n",
    "for recipe in recipes: \n",
    "    print(recipe)\n",
    "    # try out opening \n",
    "    with open( recipe , 'r') as f:\n",
    "        recipe_dict = json.load(f)   "
   ]
  },
  {
   "cell_type": "markdown",
   "metadata": {},
   "source": [
    "# Choose recipes"
   ]
  },
  {
   "cell_type": "code",
   "execution_count": 10,
   "metadata": {},
   "outputs": [],
   "source": [
    "recipes = [  \"dinner\\\\greek_salad.json\",  \n",
    "            \"dinner\\\\indian_chicken_curry.json\",\n",
    "            \"baking\\\\naan_bread.json\",\n",
    "           \"baking\\\\croissant.json\",\n",
    "           \"breakfast\\\\avocado_toast.json\",\n",
    "           \"breakfast\\\\mushroom_egg_scramble.json\",\n",
    "           \"dinner\\\\potstickers.json\",\n",
    "           \"untried_recipes\\\\kouign_amman.json\",\n",
    "           \"untried_recipes\\\\sausage_roll.json\",\n",
    "           \"untried_recipes\\\\homemade_pasta.json\",\n",
    "           \"untried_recipes\\\\lamb_borek.json\",\n",
    "          ]  "
   ]
  },
  {
   "cell_type": "markdown",
   "metadata": {},
   "source": [
    "# Generate weekly cookbook"
   ]
  },
  {
   "cell_type": "code",
   "execution_count": 11,
   "metadata": {
    "scrolled": true
   },
   "outputs": [
    {
     "name": "stdout",
     "output_type": "stream",
     "text": [
      "dinner\\greek_salad.json\n",
      "dinner\\indian_chicken_curry.json\n",
      "baking\\naan_bread.json\n",
      "baking\\croissant.json\n",
      "breakfast\\avocado_toast.json\n",
      "breakfast\\mushroom_egg_scramble.json\n",
      "dinner\\potstickers.json\n",
      "untried_recipes\\kouign_amman.json\n",
      "untried_recipes\\sausage_roll.json\n",
      "untried_recipes\\homemade_pasta.json\n",
      "untried_recipes\\lamb_borek.json\n"
     ]
    }
   ],
   "source": [
    "generate_pdf = True\n",
    "\n",
    "if generate_pdf: \n",
    "    unique_recipes = cf.unique(recipes)   \n",
    "#     cf.create_weeklyCookbook( unique_recipes, output_pdf ) \n",
    "    try: \n",
    "        cf.create_weeklyCookbook( unique_recipes, output_pdf ) \n",
    "    except:\n",
    "        print( 'pdf could not be generated, are pylatex and pearl installed correctly?')"
   ]
  },
  {
   "cell_type": "markdown",
   "metadata": {},
   "source": [
    "# generate shopping list "
   ]
  },
  {
   "cell_type": "code",
   "execution_count": 12,
   "metadata": {},
   "outputs": [
    {
     "name": "stdout",
     "output_type": "stream",
     "text": [
      "avocado toast [2 srv,]\n",
      "croissants [7 srv,]\n",
      "daily items [0 srv,]\n",
      "greek salad [6 srv,]\n",
      "homemade pasta [2 srv,]\n",
      "indian chicken curry [4 srv,]\n",
      "kouign amman [2 srv,]\n",
      "lamb borek [4 srv,]\n",
      "mushroom egg scramble [2 srv,]\n",
      "naan bread [6 srv,]\n",
      "potstickers [3 srv,]\n",
      "sausage roll [2 srv,]\n",
      "------------------------\n",
      "avocado [1x,]\n",
      "basil [1x,]\n",
      "bell pepper [<=1,]\n",
      "crimini mushrooms [5,]\n",
      "cucumber [1,]\n",
      "garlic [1cl,2+cl,2cL,4cl,6cloves,5cl,]\n",
      "ginger [1+tbs,]\n",
      "green cabbage [1/4,]\n",
      "green onion [2,2,]\n",
      "heirloom tomatoes [2,]\n",
      "kalamata olives [1/2 cup,]\n",
      "mushrooms [5,]\n",
      "onion [1/4,1x,1,]\n",
      "red bell pepper [1x,]\n",
      "roma tomatoes [2,]\n",
      "yellow bell pepper [1x,]\n",
      "------------------------\n",
      "butter [2 sticks + 6 tablespoons,2.5sticks ,3tbs,2tbs,]\n",
      "egg [1,1,1,]\n",
      "eggs [2,8,]\n",
      "feta [1/2 lb,]\n",
      "parmesan cheese [1x,]\n",
      "yoghurt [1 cup,1/4 cup,3tbs+1/2cup,]\n",
      "------------------------\n",
      "chicken [2lb,]\n",
      "chicken boneless [2lb,]\n",
      "ground pork [1lb,1lb,]\n",
      "lamb [2lb,]\n",
      "sausage, breakfast [optional,]\n",
      "some ground meat, pork? [250g,]\n",
      "------------------------\n",
      "cayenne pepper  is in the pantry\n",
      "cinnamon  is in the pantry\n",
      "cumin  is in the pantry\n",
      "cumin  is in the pantry\n",
      "nutmeg  is in the pantry\n",
      "turmeric  is in the pantry\n",
      "allspice [1x,]\n",
      "cayenne [1x,1/8tsp,]\n",
      "coriander [1x,1/4tsp,1sp,]\n",
      "curry powder [1.5tbs,]\n",
      "garam masala [1tsp, optional,]\n",
      "paprika [1x,]\n",
      "sage 1tsp [1x,]\n",
      "thyme, dried [1/4sp,]\n",
      "------------------------\n",
      "flour  is in the pantry\n",
      "flour  is in the pantry\n",
      "olive oil  is in the pantry\n",
      "sesame oil  is in the pantry\n",
      "sriratcha  is in the pantry\n",
      "sugar  is in the pantry\n",
      "sugar  is in the pantry\n",
      "sugar  is in the pantry\n",
      "tomato sauce  is in the pantry\n",
      "active dry yeast [1x,]\n",
      "beer [1x,]\n",
      "bread [1x,optional,]\n",
      "bread flower [2 1/2,3 1/2 cup,]\n",
      "breadcrums [1tbs,]\n",
      "breadflower [4lb,]\n",
      "brown rice [1cup,]\n",
      "butter [4 sticks,]\n",
      "chickpeas [1can,]\n",
      "cling wrap [1x,]\n",
      "currants [2tbs, optional,]\n",
      "dark chocolate [1bar?,]\n",
      "frozen peas [1bag,]\n",
      "frozen puff pastry [1sheet,]\n",
      "phylo dough [12 sheets,]\n",
      "pine nuts [3tbs,optional,]\n",
      "rice [2 cups,]\n",
      "sesame seeds [1x,2tsp,optional,]\n",
      "silicone brush [1x,]\n",
      "soy sauce [2 tbs,]\n",
      "tomato, crushed [15 oz can,]\n",
      "water jug [1,]\n",
      "wine [1x,]\n",
      "won ton wrappers [36,]\n",
      "yeast [1 package,1 packet,]\n",
      "------------------------\n"
     ]
    }
   ],
   "source": [
    "shopping_recipes = recipes + [other_grocery_file]  # add grocery list not related to recipes\n",
    "\n",
    "cf.generate_shoppinglist( output_shopping_file, shopping_recipes, pantry_file ) "
   ]
  },
  {
   "cell_type": "code",
   "execution_count": null,
   "metadata": {},
   "outputs": [],
   "source": [
    " "
   ]
  },
  {
   "cell_type": "code",
   "execution_count": null,
   "metadata": {},
   "outputs": [],
   "source": []
  }
 ],
 "metadata": {
  "kernelspec": {
   "display_name": "Python 3",
   "language": "python",
   "name": "python3"
  },
  "language_info": {
   "codemirror_mode": {
    "name": "ipython",
    "version": 3
   },
   "file_extension": ".py",
   "mimetype": "text/x-python",
   "name": "python",
   "nbconvert_exporter": "python",
   "pygments_lexer": "ipython3",
   "version": "3.7.1"
  }
 },
 "nbformat": 4,
 "nbformat_minor": 2
}
